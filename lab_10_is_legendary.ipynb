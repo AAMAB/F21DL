{
 "cells": [
  {
   "cell_type": "markdown",
   "metadata": {
    "collapsed": false,
    "pycharm": {
     "name": "#%% md\n"
    }
   },
   "source": [
    "### Data pre-processing"
   ]
  },
  {
   "cell_type": "code",
   "execution_count": 1,
   "metadata": {
    "collapsed": false,
    "pycharm": {
     "name": "#%%\n"
    }
   },
   "outputs": [],
   "source": [
    "import sklearn\n",
    "assert sklearn.__version__ >= \"0.2\"\n",
    "from sklearn.model_selection import train_test_split\n",
    "from sklearn.preprocessing import OrdinalEncoder, MinMaxScaler\n",
    "\n",
    "import numpy as np\n",
    "import pandas as pd\n",
    "\n",
    "# To plot pretty figures\n",
    "%matplotlib inline\n",
    "import matplotlib.pyplot as plt"
   ]
  },
  {
   "cell_type": "code",
   "execution_count": 2,
   "metadata": {
    "collapsed": false,
    "pycharm": {
     "name": "#%%\n"
    }
   },
   "outputs": [],
   "source": [
    "pokemon = pd.read_csv('pokemon_alopez247.csv')"
   ]
  },
  {
   "cell_type": "code",
   "execution_count": 3,
   "metadata": {
    "collapsed": false,
    "pycharm": {
     "name": "#%%\n"
    }
   },
   "outputs": [
    {
     "name": "stdout",
     "output_type": "stream",
     "text": [
      "<class 'pandas.core.frame.DataFrame'>\n",
      "RangeIndex: 721 entries, 0 to 720\n",
      "Data columns (total 23 columns):\n",
      " #   Column            Non-Null Count  Dtype  \n",
      "---  ------            --------------  -----  \n",
      " 0   Number            721 non-null    int64  \n",
      " 1   Name              721 non-null    object \n",
      " 2   Type_1            721 non-null    object \n",
      " 3   Type_2            721 non-null    object \n",
      " 4   Total             721 non-null    int64  \n",
      " 5   HP                721 non-null    int64  \n",
      " 6   Attack            721 non-null    int64  \n",
      " 7   Defense           721 non-null    int64  \n",
      " 8   Sp_Atk            721 non-null    int64  \n",
      " 9   Sp_Def            721 non-null    int64  \n",
      " 10  Speed             721 non-null    int64  \n",
      " 11  Generation        721 non-null    int64  \n",
      " 12  isLegendary       721 non-null    bool   \n",
      " 13  Color             721 non-null    object \n",
      " 14  hasGender         721 non-null    bool   \n",
      " 15  Pr_Male           721 non-null    float64\n",
      " 16  Egg_Group_1       721 non-null    object \n",
      " 17  Egg_Group_2       721 non-null    object \n",
      " 18  hasMegaEvolution  721 non-null    bool   \n",
      " 19  Height_m          721 non-null    float64\n",
      " 20  Weight_kg         721 non-null    float64\n",
      " 21  Catch_Rate        721 non-null    int64  \n",
      " 22  Body_Style        721 non-null    object \n",
      "dtypes: bool(3), float64(3), int64(10), object(7)\n",
      "memory usage: 114.9+ KB\n"
     ]
    }
   ],
   "source": [
    "pokemon['Type_2'].fillna(\"None\", inplace = True)\n",
    "pokemon['Egg_Group_2'].fillna(\"None\", inplace = True)\n",
    "pokemon['Pr_Male'].fillna(999, inplace = True)\n",
    "\n",
    "pokemon.info()"
   ]
  },
  {
   "cell_type": "code",
   "execution_count": 4,
   "metadata": {
    "collapsed": false,
    "pycharm": {
     "name": "#%%\n"
    }
   },
   "outputs": [],
   "source": [
    "pokemon.drop(['Number', 'Name'], axis=1, inplace=True)"
   ]
  },
  {
   "cell_type": "code",
   "execution_count": 5,
   "metadata": {
    "collapsed": false,
    "pycharm": {
     "name": "#%%\n"
    }
   },
   "outputs": [],
   "source": [
    "numerical_cols = list(pokemon.select_dtypes(include='number').columns)\n",
    "categorical_cols = list(pokemon.select_dtypes(exclude='number').columns)"
   ]
  },
  {
   "cell_type": "code",
   "execution_count": 6,
   "metadata": {
    "collapsed": false,
    "pycharm": {
     "name": "#%%\n"
    }
   },
   "outputs": [],
   "source": [
    "pokemon[categorical_cols] = OrdinalEncoder().fit_transform(pokemon[categorical_cols]).astype(int)"
   ]
  },
  {
   "cell_type": "code",
   "execution_count": 7,
   "metadata": {
    "collapsed": false,
    "pycharm": {
     "name": "#%%\n"
    }
   },
   "outputs": [],
   "source": [
    "pokemon = pd.DataFrame(MinMaxScaler().fit_transform(pokemon), columns=pokemon.columns)"
   ]
  },
  {
   "cell_type": "code",
   "execution_count": 8,
   "metadata": {
    "collapsed": false,
    "pycharm": {
     "name": "#%%\n"
    }
   },
   "outputs": [],
   "source": [
    "pokemon_x, pokemon_y = pokemon.drop(['isLegendary'], axis=1), pokemon['isLegendary']\n",
    "x_train, x_test, y_train, y_test = train_test_split(pokemon_x, pokemon_y, test_size = 0.2, random_state = 42)"
   ]
  },
  {
   "cell_type": "code",
   "execution_count": 9,
   "metadata": {
    "collapsed": false,
    "pycharm": {
     "name": "#%%\n"
    }
   },
   "outputs": [
    {
     "data": {
      "text/html": [
       "<div>\n",
       "<style scoped>\n",
       "    .dataframe tbody tr th:only-of-type {\n",
       "        vertical-align: middle;\n",
       "    }\n",
       "\n",
       "    .dataframe tbody tr th {\n",
       "        vertical-align: top;\n",
       "    }\n",
       "\n",
       "    .dataframe thead th {\n",
       "        text-align: right;\n",
       "    }\n",
       "</style>\n",
       "<table border=\"1\" class=\"dataframe\">\n",
       "  <thead>\n",
       "    <tr style=\"text-align: right;\">\n",
       "      <th></th>\n",
       "      <th>Type_1</th>\n",
       "      <th>Type_2</th>\n",
       "      <th>Total</th>\n",
       "      <th>HP</th>\n",
       "      <th>Attack</th>\n",
       "      <th>Defense</th>\n",
       "      <th>Sp_Atk</th>\n",
       "      <th>Sp_Def</th>\n",
       "      <th>Speed</th>\n",
       "      <th>Generation</th>\n",
       "      <th>...</th>\n",
       "      <th>Color</th>\n",
       "      <th>hasGender</th>\n",
       "      <th>Pr_Male</th>\n",
       "      <th>Egg_Group_1</th>\n",
       "      <th>Egg_Group_2</th>\n",
       "      <th>hasMegaEvolution</th>\n",
       "      <th>Height_m</th>\n",
       "      <th>Weight_kg</th>\n",
       "      <th>Catch_Rate</th>\n",
       "      <th>Body_Style</th>\n",
       "    </tr>\n",
       "  </thead>\n",
       "  <tbody>\n",
       "    <tr>\n",
       "      <th>0</th>\n",
       "      <td>0.529412</td>\n",
       "      <td>0.777778</td>\n",
       "      <td>0.255556</td>\n",
       "      <td>0.173228</td>\n",
       "      <td>0.27500</td>\n",
       "      <td>0.195556</td>\n",
       "      <td>0.381944</td>\n",
       "      <td>0.214286</td>\n",
       "      <td>0.258065</td>\n",
       "      <td>0.0</td>\n",
       "      <td>...</td>\n",
       "      <td>0.333333</td>\n",
       "      <td>1.0</td>\n",
       "      <td>0.000876</td>\n",
       "      <td>0.714286</td>\n",
       "      <td>0.461538</td>\n",
       "      <td>0.0</td>\n",
       "      <td>0.042361</td>\n",
       "      <td>0.007159</td>\n",
       "      <td>0.166667</td>\n",
       "      <td>0.692308</td>\n",
       "    </tr>\n",
       "    <tr>\n",
       "      <th>1</th>\n",
       "      <td>0.529412</td>\n",
       "      <td>0.777778</td>\n",
       "      <td>0.416667</td>\n",
       "      <td>0.232283</td>\n",
       "      <td>0.35625</td>\n",
       "      <td>0.257778</td>\n",
       "      <td>0.486111</td>\n",
       "      <td>0.285714</td>\n",
       "      <td>0.354839</td>\n",
       "      <td>0.0</td>\n",
       "      <td>...</td>\n",
       "      <td>0.333333</td>\n",
       "      <td>1.0</td>\n",
       "      <td>0.000876</td>\n",
       "      <td>0.714286</td>\n",
       "      <td>0.461538</td>\n",
       "      <td>0.0</td>\n",
       "      <td>0.061806</td>\n",
       "      <td>0.013580</td>\n",
       "      <td>0.166667</td>\n",
       "      <td>0.692308</td>\n",
       "    </tr>\n",
       "    <tr>\n",
       "      <th>2</th>\n",
       "      <td>0.529412</td>\n",
       "      <td>0.777778</td>\n",
       "      <td>0.638889</td>\n",
       "      <td>0.311024</td>\n",
       "      <td>0.48125</td>\n",
       "      <td>0.346667</td>\n",
       "      <td>0.625000</td>\n",
       "      <td>0.380952</td>\n",
       "      <td>0.483871</td>\n",
       "      <td>0.0</td>\n",
       "      <td>...</td>\n",
       "      <td>0.333333</td>\n",
       "      <td>1.0</td>\n",
       "      <td>0.000876</td>\n",
       "      <td>0.714286</td>\n",
       "      <td>0.461538</td>\n",
       "      <td>1.0</td>\n",
       "      <td>0.132639</td>\n",
       "      <td>0.105169</td>\n",
       "      <td>0.166667</td>\n",
       "      <td>0.692308</td>\n",
       "    </tr>\n",
       "    <tr>\n",
       "      <th>3</th>\n",
       "      <td>0.352941</td>\n",
       "      <td>0.666667</td>\n",
       "      <td>0.238889</td>\n",
       "      <td>0.149606</td>\n",
       "      <td>0.29375</td>\n",
       "      <td>0.168889</td>\n",
       "      <td>0.347222</td>\n",
       "      <td>0.142857</td>\n",
       "      <td>0.387097</td>\n",
       "      <td>0.0</td>\n",
       "      <td>...</td>\n",
       "      <td>0.777778</td>\n",
       "      <td>1.0</td>\n",
       "      <td>0.000876</td>\n",
       "      <td>0.714286</td>\n",
       "      <td>0.153846</td>\n",
       "      <td>0.0</td>\n",
       "      <td>0.035417</td>\n",
       "      <td>0.008843</td>\n",
       "      <td>0.166667</td>\n",
       "      <td>0.000000</td>\n",
       "    </tr>\n",
       "    <tr>\n",
       "      <th>4</th>\n",
       "      <td>0.352941</td>\n",
       "      <td>0.666667</td>\n",
       "      <td>0.416667</td>\n",
       "      <td>0.224409</td>\n",
       "      <td>0.36875</td>\n",
       "      <td>0.235556</td>\n",
       "      <td>0.486111</td>\n",
       "      <td>0.214286</td>\n",
       "      <td>0.483871</td>\n",
       "      <td>0.0</td>\n",
       "      <td>...</td>\n",
       "      <td>0.777778</td>\n",
       "      <td>1.0</td>\n",
       "      <td>0.000876</td>\n",
       "      <td>0.714286</td>\n",
       "      <td>0.153846</td>\n",
       "      <td>0.0</td>\n",
       "      <td>0.068750</td>\n",
       "      <td>0.019897</td>\n",
       "      <td>0.166667</td>\n",
       "      <td>0.000000</td>\n",
       "    </tr>\n",
       "  </tbody>\n",
       "</table>\n",
       "<p>5 rows × 21 columns</p>\n",
       "</div>"
      ],
      "text/plain": [
       "     Type_1    Type_2     Total        HP   Attack   Defense    Sp_Atk  \\\n",
       "0  0.529412  0.777778  0.255556  0.173228  0.27500  0.195556  0.381944   \n",
       "1  0.529412  0.777778  0.416667  0.232283  0.35625  0.257778  0.486111   \n",
       "2  0.529412  0.777778  0.638889  0.311024  0.48125  0.346667  0.625000   \n",
       "3  0.352941  0.666667  0.238889  0.149606  0.29375  0.168889  0.347222   \n",
       "4  0.352941  0.666667  0.416667  0.224409  0.36875  0.235556  0.486111   \n",
       "\n",
       "     Sp_Def     Speed  Generation  ...     Color  hasGender   Pr_Male  \\\n",
       "0  0.214286  0.258065         0.0  ...  0.333333        1.0  0.000876   \n",
       "1  0.285714  0.354839         0.0  ...  0.333333        1.0  0.000876   \n",
       "2  0.380952  0.483871         0.0  ...  0.333333        1.0  0.000876   \n",
       "3  0.142857  0.387097         0.0  ...  0.777778        1.0  0.000876   \n",
       "4  0.214286  0.483871         0.0  ...  0.777778        1.0  0.000876   \n",
       "\n",
       "   Egg_Group_1  Egg_Group_2  hasMegaEvolution  Height_m  Weight_kg  \\\n",
       "0     0.714286     0.461538               0.0  0.042361   0.007159   \n",
       "1     0.714286     0.461538               0.0  0.061806   0.013580   \n",
       "2     0.714286     0.461538               1.0  0.132639   0.105169   \n",
       "3     0.714286     0.153846               0.0  0.035417   0.008843   \n",
       "4     0.714286     0.153846               0.0  0.068750   0.019897   \n",
       "\n",
       "   Catch_Rate  Body_Style  \n",
       "0    0.166667    0.692308  \n",
       "1    0.166667    0.692308  \n",
       "2    0.166667    0.692308  \n",
       "3    0.166667    0.000000  \n",
       "4    0.166667    0.000000  \n",
       "\n",
       "[5 rows x 21 columns]"
      ]
     },
     "execution_count": 9,
     "metadata": {},
     "output_type": "execute_result"
    }
   ],
   "source": [
    "pokemon.head()"
   ]
  },
  {
   "cell_type": "markdown",
   "metadata": {
    "collapsed": false,
    "pycharm": {
     "name": "#%% md\n"
    }
   },
   "source": [
    "### Lab 10: Multilayer Perceptron"
   ]
  },
  {
   "cell_type": "markdown",
   "metadata": {},
   "source": [
    "#### Initializing 6 Architectures\n"
   ]
  },
  {
   "cell_type": "code",
   "execution_count": 10,
   "metadata": {},
   "outputs": [],
   "source": [
    "from sklearn.neural_network import MLPClassifier\n",
    "\n",
    "# architecture 1\n",
    "# 2 hidden layers, 2 neurons in each, 0.1 learning rate, 1 epoch, relu, optimization algo = adam\n",
    "arch1 = MLPClassifier(hidden_layer_sizes=(2, 2), max_iter= 1, learning_rate_init=0.1)\n",
    "\n",
    "# architecture 2\n",
    "# 3 hidden layers, 6,2,5 neurons in each, 0.01 learning rate, 1 epoch, tanh, optimization algo = adam\n",
    "arch2 = MLPClassifier(hidden_layer_sizes=(6, 2, 5), max_iter=1, learning_rate_init=0.01, activation='tanh')\n",
    "\n",
    "# architecture 3\n",
    "# 4 hidden layers, 4,6,7,2 neurons, 0.001 learning rate, 10 epochs, relu and adam\n",
    "arch3 = MLPClassifier(hidden_layer_sizes=(4,6,7,2), max_iter=10, learning_rate_init=0.001)\n",
    "\n",
    "# architecture 4\n",
    "# 3 hidden layers, 9,5,1 neurons, 0.1 learning rate, 100 epochs, relu and sgd\n",
    "arch4 = MLPClassifier(hidden_layer_sizes=(9,5,1), learning_rate_init=0.1, max_iter=100, solver = 'sgd')\n",
    "\n",
    "#architecture 5\n",
    "# 2 hidden layers, 8, 2 neurons, 0.01 lr, 100 epochs, logistic and sgd\n",
    "arch5 = MLPClassifier(hidden_layer_sizes=(8,2), learning_rate_init=0.1, max_iter=100, activation='logistic', solver= 'sgd')\n",
    "\n",
    "#architecture 6\n",
    "# 4 hidden layers, 1,2,3,4 neurons, 0.1 lr, 10 epochs, logistic, sgd\n",
    "arch6 = MLPClassifier(hidden_layer_sizes=(1,2,3,4), learning_rate_init=0.1, max_iter=10, activation='logistic', solver='sgd')"
   ]
  }
 ],
 "metadata": {
  "kernelspec": {
   "display_name": "Python 3.10.2 64-bit",
   "language": "python",
   "name": "python3"
  },
  "language_info": {
   "codemirror_mode": {
    "name": "ipython",
    "version": 3
   },
   "file_extension": ".py",
   "mimetype": "text/x-python",
   "name": "python",
   "nbconvert_exporter": "python",
   "pygments_lexer": "ipython3",
   "version": "3.10.2"
  },
  "vscode": {
   "interpreter": {
    "hash": "48e2f1a5c55ea795dcf139e8514e387d8556933def71ce5b25b026d48c40902d"
   }
  }
 },
 "nbformat": 4,
 "nbformat_minor": 0
}
