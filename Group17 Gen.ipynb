{
 "cells": [
  {
   "cell_type": "markdown",
   "id": "5d860c16",
   "metadata": {
    "collapsed": false,
    "pycharm": {
     "name": "#%% md\n"
    }
   },
   "source": [
    "# F20DL Group 17 ML Portfolio"
   ]
  },
  {
   "cell_type": "markdown",
   "id": "a89d3190",
   "metadata": {
    "collapsed": false,
    "pycharm": {
     "name": "#%% md\n"
    }
   },
   "source": [
    "# Week 1\n",
    "Overview: We shortlisted datasets to work on for the rest of the semester."
   ]
  },
  {
   "cell_type": "markdown",
   "id": "7bf23ba0",
   "metadata": {
    "collapsed": false,
    "pycharm": {
     "name": "#%% md\n"
    }
   },
   "source": [
    "## Short-listed Tabular Datasets:\n",
    "1. **Pokémon for Data Mining and Machine Learning** - [Kaggle](https://www.kaggle.com/datasets/alopez247/pokemon)\n",
    "    - <font color='#90ee90'> 721 entries and 23 attributes for each entry, a mix of nominal and numerical data. </font>\n",
    "    - <font color='#90ee90'> There are only 2 attributes with over 50% null values, can be easily cleaned\n",
    "    and still lots of other attributes </font>\n",
    "    - <font color='#90ee90'> The dataset is 732Kb, so it does not use a lot of space. </font>\n",
    "   <br></br>\n",
    "2. **Netflix Movies and TV Shows** - [Kaggle](https://www.kaggle.com/datasets/shivamb/netflix-shows)\n",
    "    - <font color='#90ee90'> Pros:  8807 records with 12 attributes covering all data types (nominal/interval/ratio/ordinal data)</font>\n",
    "    - <font color='#90ee90'> The dataset is 3.4MB.</font>\n",
    "    - <font color='#FF7F7F'> 30% of records have null values for a certain attribute - field can be removed or records can be removed (leaving 6000 records) </font>\n",
    "    <br></br>\n",
    "3. **Video Game Sales** - [Kaggle](https://www.kaggle.com/datasets/gregorut/videogamesales)\n",
    "    - <font color='#90ee90'>The dataset is comprehensive which consist of 16500+ records</font>\n",
    "    - <font color='#90ee90'>This is a well known dataset with lots of papers and code</font>\n",
    "    - <font color='#FF7F7F'>Has a limited number of attributes</font>"
   ]
  },
  {
   "cell_type": "markdown",
   "id": "198469d9",
   "metadata": {
    "collapsed": false,
    "pycharm": {
     "name": "#%% md\n"
    }
   },
   "source": [
    "## Short-listed Computer Vision Datasets\n",
    "\n",
    "4. **Fruits 360** - [Kaggle](https://www.kaggle.com/datasets/moltean/fruits)\n",
    "    - <font color='#90ee90'>The dataset is comprehensive which consist of 90000+ high-quality images of over 100 different classes</font>\n",
    "    - <font color='#90ee90'>The dataset consist of good quality, bad quality, and mixed quality fruit images</font>\n",
    "    - <font color='#90ee90'>This is a well known dataset with lots of papers and code</font>\n",
    "    - <font color='#90ee90'>The dataset has lots of training data which might result in better accuracy</font>\n",
    "    - <font color='#FF7F7F'>The data might require GPUs for training due to the sheer size of the dataset</font>\n",
    "    <br></br>\n",
    "5. **Pokemon Image Dataset** - [Kaggle](https://www.kaggle.com/datasets/vishalsubbiah/pokemon-images-and-types)\n",
    "    - <font color='#90ee90'>Has images of *all* of the Pokemon from generation 1 to 7</font>\n",
    "    - <font color='#90ee90'>810 files/images to identify next evolution from the pre-evoled forms of the current Pokemon</font>\n",
    "    - <font color='#90ee90'>Each Pokemon has two types, primary and secondary. The dataset helps predict the current type of the Pokemon image</font>\n",
    "    - <font color='#FF7F7F'>Only 3 columns in the dataset, Pokemon, Type1, Type2</font>\n",
    "    - <font color='#FF7F7F'>Type 2 has 50% null values, meaning half the Pokemons only have type1 which makes the identification pointless</font>\n",
    "    - <font color='#FF7F7F'>Data is not uniform, the image resolutions are different which can result in conflicts during data analysis</font>\n"
   ]
  },
  {
   "cell_type": "markdown",
   "id": "25f55c6f",
   "metadata": {
    "collapsed": false,
    "pycharm": {
     "name": "#%% md\n"
    }
   },
   "source": [
    "## Selected Dataset:\n",
    "1. **Pokémon for Data Mining and Machine Learning** - [Kaggle](https://www.kaggle.com/datasets/alopez247/pokemon)\n",
    "    - For nominal analysis\n",
    "2. **Fruits 360** - [Kaggle](https://www.kaggle.com/datasets/moltean/fruits)\n",
    "    - For any CNN related tasks."
   ]
  },
  {
   "cell_type": "markdown",
   "id": "81862132",
   "metadata": {
    "collapsed": false,
    "pycharm": {
     "name": "#%% md\n"
    }
   },
   "source": [
    "# Week 2\n",
    "Overview: We visualised and summarised the pokemon data, in order to be aquainted with it."
   ]
  },
  {
   "cell_type": "markdown",
   "id": "5199c380",
   "metadata": {
    "collapsed": false,
    "pycharm": {
     "name": "#%% md\n"
    }
   },
   "source": [
    "## 1. Imported required packages"
   ]
  },
  {
   "cell_type": "code",
   "execution_count": 1,
   "id": "250f43c6",
   "metadata": {
    "collapsed": false,
    "pycharm": {
     "name": "#%%\n"
    }
   },
   "outputs": [],
   "source": [
    "# Some required imports\n",
    "import sys\n",
    "assert sys.version_info >= (3,5)    # Python >= 3.5 is required"
   ]
  },
  {
   "cell_type": "code",
   "execution_count": 2,
   "id": "5db4d7a2",
   "metadata": {
    "collapsed": false,
    "pycharm": {
     "name": "#%%\n"
    }
   },
   "outputs": [],
   "source": [
    "import sklearn\n",
    "assert sklearn.__version__ >= \"0.2\"\n",
    "\n",
    "# Common imports\n",
    "import numpy as np\n",
    "import os\n",
    "import tarfile\n",
    "import urllib\n",
    "import pandas as pd\n",
    "import urllib.request\n",
    "\n",
    "# To plot pretty figures\n",
    "%matplotlib inline \n",
    "import seaborn as sns\n",
    "import matplotlib as mpl\n",
    "import matplotlib.pyplot as plt"
   ]
  },
  {
   "cell_type": "markdown",
   "id": "bcdcfa9e",
   "metadata": {
    "collapsed": false,
    "pycharm": {
     "name": "#%% md\n"
    }
   },
   "source": [
    "## 2. We loaded the dataset, described the attributes, and generated summary statistics."
   ]
  },
  {
   "cell_type": "code",
   "execution_count": 3,
   "id": "7532feb7",
   "metadata": {
    "collapsed": false,
    "pycharm": {
     "name": "#%%\n"
    }
   },
   "outputs": [
    {
     "data": {
      "text/html": [
       "<div>\n",
       "<style scoped>\n",
       "    .dataframe tbody tr th:only-of-type {\n",
       "        vertical-align: middle;\n",
       "    }\n",
       "\n",
       "    .dataframe tbody tr th {\n",
       "        vertical-align: top;\n",
       "    }\n",
       "\n",
       "    .dataframe thead th {\n",
       "        text-align: right;\n",
       "    }\n",
       "</style>\n",
       "<table border=\"1\" class=\"dataframe\">\n",
       "  <thead>\n",
       "    <tr style=\"text-align: right;\">\n",
       "      <th></th>\n",
       "      <th>Number</th>\n",
       "      <th>Name</th>\n",
       "      <th>Type_1</th>\n",
       "      <th>Type_2</th>\n",
       "      <th>Total</th>\n",
       "      <th>HP</th>\n",
       "      <th>Attack</th>\n",
       "      <th>Defense</th>\n",
       "      <th>Sp_Atk</th>\n",
       "      <th>Sp_Def</th>\n",
       "      <th>...</th>\n",
       "      <th>Color</th>\n",
       "      <th>hasGender</th>\n",
       "      <th>Pr_Male</th>\n",
       "      <th>Egg_Group_1</th>\n",
       "      <th>Egg_Group_2</th>\n",
       "      <th>hasMegaEvolution</th>\n",
       "      <th>Height_m</th>\n",
       "      <th>Weight_kg</th>\n",
       "      <th>Catch_Rate</th>\n",
       "      <th>Body_Style</th>\n",
       "    </tr>\n",
       "  </thead>\n",
       "  <tbody>\n",
       "    <tr>\n",
       "      <th>0</th>\n",
       "      <td>1</td>\n",
       "      <td>Bulbasaur</td>\n",
       "      <td>Grass</td>\n",
       "      <td>Poison</td>\n",
       "      <td>318</td>\n",
       "      <td>45</td>\n",
       "      <td>49</td>\n",
       "      <td>49</td>\n",
       "      <td>65</td>\n",
       "      <td>65</td>\n",
       "      <td>...</td>\n",
       "      <td>Green</td>\n",
       "      <td>True</td>\n",
       "      <td>0.875</td>\n",
       "      <td>Monster</td>\n",
       "      <td>Grass</td>\n",
       "      <td>False</td>\n",
       "      <td>0.71</td>\n",
       "      <td>6.9</td>\n",
       "      <td>45</td>\n",
       "      <td>quadruped</td>\n",
       "    </tr>\n",
       "    <tr>\n",
       "      <th>1</th>\n",
       "      <td>2</td>\n",
       "      <td>Ivysaur</td>\n",
       "      <td>Grass</td>\n",
       "      <td>Poison</td>\n",
       "      <td>405</td>\n",
       "      <td>60</td>\n",
       "      <td>62</td>\n",
       "      <td>63</td>\n",
       "      <td>80</td>\n",
       "      <td>80</td>\n",
       "      <td>...</td>\n",
       "      <td>Green</td>\n",
       "      <td>True</td>\n",
       "      <td>0.875</td>\n",
       "      <td>Monster</td>\n",
       "      <td>Grass</td>\n",
       "      <td>False</td>\n",
       "      <td>0.99</td>\n",
       "      <td>13.0</td>\n",
       "      <td>45</td>\n",
       "      <td>quadruped</td>\n",
       "    </tr>\n",
       "    <tr>\n",
       "      <th>2</th>\n",
       "      <td>3</td>\n",
       "      <td>Venusaur</td>\n",
       "      <td>Grass</td>\n",
       "      <td>Poison</td>\n",
       "      <td>525</td>\n",
       "      <td>80</td>\n",
       "      <td>82</td>\n",
       "      <td>83</td>\n",
       "      <td>100</td>\n",
       "      <td>100</td>\n",
       "      <td>...</td>\n",
       "      <td>Green</td>\n",
       "      <td>True</td>\n",
       "      <td>0.875</td>\n",
       "      <td>Monster</td>\n",
       "      <td>Grass</td>\n",
       "      <td>True</td>\n",
       "      <td>2.01</td>\n",
       "      <td>100.0</td>\n",
       "      <td>45</td>\n",
       "      <td>quadruped</td>\n",
       "    </tr>\n",
       "    <tr>\n",
       "      <th>3</th>\n",
       "      <td>4</td>\n",
       "      <td>Charmander</td>\n",
       "      <td>Fire</td>\n",
       "      <td>NaN</td>\n",
       "      <td>309</td>\n",
       "      <td>39</td>\n",
       "      <td>52</td>\n",
       "      <td>43</td>\n",
       "      <td>60</td>\n",
       "      <td>50</td>\n",
       "      <td>...</td>\n",
       "      <td>Red</td>\n",
       "      <td>True</td>\n",
       "      <td>0.875</td>\n",
       "      <td>Monster</td>\n",
       "      <td>Dragon</td>\n",
       "      <td>False</td>\n",
       "      <td>0.61</td>\n",
       "      <td>8.5</td>\n",
       "      <td>45</td>\n",
       "      <td>bipedal_tailed</td>\n",
       "    </tr>\n",
       "    <tr>\n",
       "      <th>4</th>\n",
       "      <td>5</td>\n",
       "      <td>Charmeleon</td>\n",
       "      <td>Fire</td>\n",
       "      <td>NaN</td>\n",
       "      <td>405</td>\n",
       "      <td>58</td>\n",
       "      <td>64</td>\n",
       "      <td>58</td>\n",
       "      <td>80</td>\n",
       "      <td>65</td>\n",
       "      <td>...</td>\n",
       "      <td>Red</td>\n",
       "      <td>True</td>\n",
       "      <td>0.875</td>\n",
       "      <td>Monster</td>\n",
       "      <td>Dragon</td>\n",
       "      <td>False</td>\n",
       "      <td>1.09</td>\n",
       "      <td>19.0</td>\n",
       "      <td>45</td>\n",
       "      <td>bipedal_tailed</td>\n",
       "    </tr>\n",
       "  </tbody>\n",
       "</table>\n",
       "<p>5 rows × 23 columns</p>\n",
       "</div>"
      ],
      "text/plain": [
       "   Number        Name Type_1  Type_2  Total  HP  Attack  Defense  Sp_Atk  \\\n",
       "0       1   Bulbasaur  Grass  Poison    318  45      49       49      65   \n",
       "1       2     Ivysaur  Grass  Poison    405  60      62       63      80   \n",
       "2       3    Venusaur  Grass  Poison    525  80      82       83     100   \n",
       "3       4  Charmander   Fire     NaN    309  39      52       43      60   \n",
       "4       5  Charmeleon   Fire     NaN    405  58      64       58      80   \n",
       "\n",
       "   Sp_Def  ...  Color  hasGender  Pr_Male Egg_Group_1  Egg_Group_2  \\\n",
       "0      65  ...  Green       True    0.875     Monster        Grass   \n",
       "1      80  ...  Green       True    0.875     Monster        Grass   \n",
       "2     100  ...  Green       True    0.875     Monster        Grass   \n",
       "3      50  ...    Red       True    0.875     Monster       Dragon   \n",
       "4      65  ...    Red       True    0.875     Monster       Dragon   \n",
       "\n",
       "   hasMegaEvolution Height_m Weight_kg  Catch_Rate      Body_Style  \n",
       "0             False     0.71       6.9          45       quadruped  \n",
       "1             False     0.99      13.0          45       quadruped  \n",
       "2              True     2.01     100.0          45       quadruped  \n",
       "3             False     0.61       8.5          45  bipedal_tailed  \n",
       "4             False     1.09      19.0          45  bipedal_tailed  \n",
       "\n",
       "[5 rows x 23 columns]"
      ]
     },
     "execution_count": 3,
     "metadata": {},
     "output_type": "execute_result"
    }
   ],
   "source": [
    "# Reads the CSV\n",
    "pokemon = pd.read_csv('pokemon_alopez247.csv')\n",
    "# This displays the top 5 entries, showing its 23 attributes\n",
    "pokemon.head()"
   ]
  },
  {
   "cell_type": "markdown",
   "id": "b4c21815",
   "metadata": {
    "collapsed": false,
    "pycharm": {
     "name": "#%% md\n"
    }
   },
   "source": [
    "### Attribute Description of the Dataset\n",
    "\n",
    "This database includes 721 Pokémon records from first six generations, with 23 attributes.\n",
    "\n",
    "- **Number**: Unique identifier.\n",
    "- **Name**: Pokémon name.\n",
    "- **Type_1**: Primary type.\n",
    "- **Type_2**: Second type, in case the Pokémon has it.\n",
    "- **Total**: Sum of base stats (health points, attack, defense, special attack, special defense, and speed).\n",
    "- **HP**: Base health points.\n",
    "- **Attack**: Base attack.\n",
    "- **Defense**: Base defense.\n",
    "- **Sp_Atk**: Base special attack.\n",
    "- **Sp_Def**: Base special defense.\n",
    "- **Speed**: Base speed.\n",
    "- **Generation**: Generation when the Pokémon was introduced. Ranges from 1 to 6.\n",
    "- **isLegendary**: Boolean that indicates whether the Pokémon is Legendary or not.\n",
    "- **Color**: Color of the Pokémon.\n",
    "- **hasGender**: Boolean that indicates if the Pokémon can be classified as female or male.\n",
    "- **Pr_male**: If the Pokémon has gender, the probability of being male. The probability of being female is 1 minus this value.\n",
    "- **EggGroup1**: Egg group of the Pokémon.\n",
    "- **EggGroup2**: Second egg group of the Pokémon, if it has two.\n",
    "- **hasMegaEvolution**: If the Pokémon is able to Mega-evolve or not. Boolean value.\n",
    "- **Height_m**: Pokémon height (m)\n",
    "- **Weight_kg**: Pokémon weight (kg)\n",
    "- **Catch_Rate**: Probability of the Pokémon being caught when a Pokéball is thrown at it.\n",
    "- **Body_Style**: Body style of the Pokémon. E.g., Quadruped."
   ]
  },
  {
   "cell_type": "code",
   "execution_count": 4,
   "id": "226759c6",
   "metadata": {
    "collapsed": false,
    "pycharm": {
     "name": "#%%\n"
    }
   },
   "outputs": [
    {
     "name": "stdout",
     "output_type": "stream",
     "text": [
      "<class 'pandas.core.frame.DataFrame'>\n",
      "RangeIndex: 721 entries, 0 to 720\n",
      "Data columns (total 23 columns):\n",
      " #   Column            Non-Null Count  Dtype  \n",
      "---  ------            --------------  -----  \n",
      " 0   Number            721 non-null    int64  \n",
      " 1   Name              721 non-null    object \n",
      " 2   Type_1            721 non-null    object \n",
      " 3   Type_2            350 non-null    object \n",
      " 4   Total             721 non-null    int64  \n",
      " 5   HP                721 non-null    int64  \n",
      " 6   Attack            721 non-null    int64  \n",
      " 7   Defense           721 non-null    int64  \n",
      " 8   Sp_Atk            721 non-null    int64  \n",
      " 9   Sp_Def            721 non-null    int64  \n",
      " 10  Speed             721 non-null    int64  \n",
      " 11  Generation        721 non-null    int64  \n",
      " 12  isLegendary       721 non-null    bool   \n",
      " 13  Color             721 non-null    object \n",
      " 14  hasGender         721 non-null    bool   \n",
      " 15  Pr_Male           644 non-null    float64\n",
      " 16  Egg_Group_1       721 non-null    object \n",
      " 17  Egg_Group_2       191 non-null    object \n",
      " 18  hasMegaEvolution  721 non-null    bool   \n",
      " 19  Height_m          721 non-null    float64\n",
      " 20  Weight_kg         721 non-null    float64\n",
      " 21  Catch_Rate        721 non-null    int64  \n",
      " 22  Body_Style        721 non-null    object \n",
      "dtypes: bool(3), float64(3), int64(10), object(7)\n",
      "memory usage: 114.9+ KB\n"
     ]
    }
   ],
   "source": [
    "# Displays the type and number of nulls of each attribute\n",
    "# Note: Almost 0.5 of Type 2 attributes are null, because Type 2 is not a required attribute is an optional add-on. \n",
    "pokemon.info()"
   ]
  },
  {
   "cell_type": "code",
   "execution_count": 5,
   "id": "846328e1",
   "metadata": {
    "collapsed": false,
    "pycharm": {
     "name": "#%%\n"
    }
   },
   "outputs": [
    {
     "data": {
      "text/html": [
       "<div>\n",
       "<style scoped>\n",
       "    .dataframe tbody tr th:only-of-type {\n",
       "        vertical-align: middle;\n",
       "    }\n",
       "\n",
       "    .dataframe tbody tr th {\n",
       "        vertical-align: top;\n",
       "    }\n",
       "\n",
       "    .dataframe thead th {\n",
       "        text-align: right;\n",
       "    }\n",
       "</style>\n",
       "<table border=\"1\" class=\"dataframe\">\n",
       "  <thead>\n",
       "    <tr style=\"text-align: right;\">\n",
       "      <th></th>\n",
       "      <th>Number</th>\n",
       "      <th>Total</th>\n",
       "      <th>HP</th>\n",
       "      <th>Attack</th>\n",
       "      <th>Defense</th>\n",
       "      <th>Sp_Atk</th>\n",
       "      <th>Sp_Def</th>\n",
       "      <th>Speed</th>\n",
       "      <th>Generation</th>\n",
       "      <th>Pr_Male</th>\n",
       "      <th>Height_m</th>\n",
       "      <th>Weight_kg</th>\n",
       "      <th>Catch_Rate</th>\n",
       "    </tr>\n",
       "  </thead>\n",
       "  <tbody>\n",
       "    <tr>\n",
       "      <th>count</th>\n",
       "      <td>721.00000</td>\n",
       "      <td>721.000000</td>\n",
       "      <td>721.000000</td>\n",
       "      <td>721.000000</td>\n",
       "      <td>721.000000</td>\n",
       "      <td>721.000000</td>\n",
       "      <td>721.000000</td>\n",
       "      <td>721.000000</td>\n",
       "      <td>721.000000</td>\n",
       "      <td>644.000000</td>\n",
       "      <td>721.000000</td>\n",
       "      <td>721.000000</td>\n",
       "      <td>721.000000</td>\n",
       "    </tr>\n",
       "    <tr>\n",
       "      <th>mean</th>\n",
       "      <td>361.00000</td>\n",
       "      <td>417.945908</td>\n",
       "      <td>68.380028</td>\n",
       "      <td>75.013870</td>\n",
       "      <td>70.808599</td>\n",
       "      <td>68.737864</td>\n",
       "      <td>69.291262</td>\n",
       "      <td>65.714286</td>\n",
       "      <td>3.323162</td>\n",
       "      <td>0.553377</td>\n",
       "      <td>1.144979</td>\n",
       "      <td>56.773370</td>\n",
       "      <td>100.246879</td>\n",
       "    </tr>\n",
       "    <tr>\n",
       "      <th>std</th>\n",
       "      <td>208.27906</td>\n",
       "      <td>109.663671</td>\n",
       "      <td>25.848272</td>\n",
       "      <td>28.984475</td>\n",
       "      <td>29.296558</td>\n",
       "      <td>28.788005</td>\n",
       "      <td>27.015860</td>\n",
       "      <td>27.277920</td>\n",
       "      <td>1.669873</td>\n",
       "      <td>0.199969</td>\n",
       "      <td>1.044369</td>\n",
       "      <td>89.095667</td>\n",
       "      <td>76.573513</td>\n",
       "    </tr>\n",
       "    <tr>\n",
       "      <th>min</th>\n",
       "      <td>1.00000</td>\n",
       "      <td>180.000000</td>\n",
       "      <td>1.000000</td>\n",
       "      <td>5.000000</td>\n",
       "      <td>5.000000</td>\n",
       "      <td>10.000000</td>\n",
       "      <td>20.000000</td>\n",
       "      <td>5.000000</td>\n",
       "      <td>1.000000</td>\n",
       "      <td>0.000000</td>\n",
       "      <td>0.100000</td>\n",
       "      <td>0.100000</td>\n",
       "      <td>3.000000</td>\n",
       "    </tr>\n",
       "    <tr>\n",
       "      <th>25%</th>\n",
       "      <td>181.00000</td>\n",
       "      <td>320.000000</td>\n",
       "      <td>50.000000</td>\n",
       "      <td>53.000000</td>\n",
       "      <td>50.000000</td>\n",
       "      <td>45.000000</td>\n",
       "      <td>50.000000</td>\n",
       "      <td>45.000000</td>\n",
       "      <td>2.000000</td>\n",
       "      <td>0.500000</td>\n",
       "      <td>0.610000</td>\n",
       "      <td>9.400000</td>\n",
       "      <td>45.000000</td>\n",
       "    </tr>\n",
       "    <tr>\n",
       "      <th>50%</th>\n",
       "      <td>361.00000</td>\n",
       "      <td>424.000000</td>\n",
       "      <td>65.000000</td>\n",
       "      <td>74.000000</td>\n",
       "      <td>65.000000</td>\n",
       "      <td>65.000000</td>\n",
       "      <td>65.000000</td>\n",
       "      <td>65.000000</td>\n",
       "      <td>3.000000</td>\n",
       "      <td>0.500000</td>\n",
       "      <td>0.990000</td>\n",
       "      <td>28.000000</td>\n",
       "      <td>65.000000</td>\n",
       "    </tr>\n",
       "    <tr>\n",
       "      <th>75%</th>\n",
       "      <td>541.00000</td>\n",
       "      <td>499.000000</td>\n",
       "      <td>80.000000</td>\n",
       "      <td>95.000000</td>\n",
       "      <td>85.000000</td>\n",
       "      <td>90.000000</td>\n",
       "      <td>85.000000</td>\n",
       "      <td>85.000000</td>\n",
       "      <td>5.000000</td>\n",
       "      <td>0.500000</td>\n",
       "      <td>1.400000</td>\n",
       "      <td>61.000000</td>\n",
       "      <td>180.000000</td>\n",
       "    </tr>\n",
       "    <tr>\n",
       "      <th>max</th>\n",
       "      <td>721.00000</td>\n",
       "      <td>720.000000</td>\n",
       "      <td>255.000000</td>\n",
       "      <td>165.000000</td>\n",
       "      <td>230.000000</td>\n",
       "      <td>154.000000</td>\n",
       "      <td>230.000000</td>\n",
       "      <td>160.000000</td>\n",
       "      <td>6.000000</td>\n",
       "      <td>1.000000</td>\n",
       "      <td>14.500000</td>\n",
       "      <td>950.000000</td>\n",
       "      <td>255.000000</td>\n",
       "    </tr>\n",
       "  </tbody>\n",
       "</table>\n",
       "</div>"
      ],
      "text/plain": [
       "          Number       Total          HP      Attack     Defense      Sp_Atk  \\\n",
       "count  721.00000  721.000000  721.000000  721.000000  721.000000  721.000000   \n",
       "mean   361.00000  417.945908   68.380028   75.013870   70.808599   68.737864   \n",
       "std    208.27906  109.663671   25.848272   28.984475   29.296558   28.788005   \n",
       "min      1.00000  180.000000    1.000000    5.000000    5.000000   10.000000   \n",
       "25%    181.00000  320.000000   50.000000   53.000000   50.000000   45.000000   \n",
       "50%    361.00000  424.000000   65.000000   74.000000   65.000000   65.000000   \n",
       "75%    541.00000  499.000000   80.000000   95.000000   85.000000   90.000000   \n",
       "max    721.00000  720.000000  255.000000  165.000000  230.000000  154.000000   \n",
       "\n",
       "           Sp_Def       Speed  Generation     Pr_Male    Height_m   Weight_kg  \\\n",
       "count  721.000000  721.000000  721.000000  644.000000  721.000000  721.000000   \n",
       "mean    69.291262   65.714286    3.323162    0.553377    1.144979   56.773370   \n",
       "std     27.015860   27.277920    1.669873    0.199969    1.044369   89.095667   \n",
       "min     20.000000    5.000000    1.000000    0.000000    0.100000    0.100000   \n",
       "25%     50.000000   45.000000    2.000000    0.500000    0.610000    9.400000   \n",
       "50%     65.000000   65.000000    3.000000    0.500000    0.990000   28.000000   \n",
       "75%     85.000000   85.000000    5.000000    0.500000    1.400000   61.000000   \n",
       "max    230.000000  160.000000    6.000000    1.000000   14.500000  950.000000   \n",
       "\n",
       "       Catch_Rate  \n",
       "count  721.000000  \n",
       "mean   100.246879  \n",
       "std     76.573513  \n",
       "min      3.000000  \n",
       "25%     45.000000  \n",
       "50%     65.000000  \n",
       "75%    180.000000  \n",
       "max    255.000000  "
      ]
     },
     "execution_count": 5,
     "metadata": {},
     "output_type": "execute_result"
    }
   ],
   "source": [
    "# Generated summary statistics for the numerical attributes of the dataset\n",
    "# It is not a complete dataset because there are some null values, which is to be dealt with in the next step.\n",
    "pokemon.describe()"
   ]
  },
  {
   "cell_type": "code",
   "execution_count": 6,
   "id": "266a4660",
   "metadata": {
    "collapsed": false,
    "pycharm": {
     "name": "#%%\n"
    }
   },
   "outputs": [
    {
     "data": {
      "text/plain": [
       "<AxesSubplot:>"
      ]
     },
     "execution_count": 6,
     "metadata": {},
     "output_type": "execute_result"
    },
    {
     "data": {
      "image/png": "[encoded data removed]",
      "text/plain": [
       "<Figure size 432x288 with 1 Axes>"
      ]
     },
     "metadata": {
      "needs_background": "light"
     },
     "output_type": "display_data"
    }
   ],
   "source": [
    "# Indicates where the null values are, within the dataset.\n",
    "sns.heatmap(pokemon.isnull(), cbar=False)"
   ]
  },
  {
   "cell_type": "markdown",
   "id": "35d83cff",
   "metadata": {
    "collapsed": false,
    "pycharm": {
     "name": "#%% md\n"
    }
   },
   "source": [
    "## 3. Dealt with null values\n",
    "\n",
    "We replaced the null values with another arbitrary value as they are meaningful."
   ]
  },
  {
   "cell_type": "markdown",
   "id": "9fe33af2",
   "metadata": {
    "collapsed": false,
    "pycharm": {
     "name": "#%% md\n"
    }
   },
   "source": [
    "Attributes will nulls and why they have nulls:\n",
    "\n",
    "1. *Type_2* has around 50% null values as some Pokemons do not have a second type. Removing all the rows with this as null would reduce our dataset to 50% of the size. Removing this column ends the possibility of identifying and analysising the Pokemon's second type. Replacing this as a string called \"None\" solves our problem.\n",
    "\n",
    "2. *Egg_Group_2* has around 75% null value as some Pokemons have only one egg group. Removing all the rows with this as null would reduce our dataset to 25% of the size. Removing this column again ends the possibility of indentifying and analysising the Pokemon's second egg group. Replacing this as a string called \"None\" solves our problem.\n",
    "\n",
    "3. *Pr_Male* has around 11% null values, these Pokemons do not have a gender. Removing these rows or columns will cost us the possibility of identifying and predicting the Pokemon's gender. Replacing this with 999 signifies as the Pokemon as genderless."
   ]
  },
  {
   "cell_type": "code",
   "execution_count": 7,
   "id": "00b04fc7",
   "metadata": {
    "collapsed": false,
    "pycharm": {
     "name": "#%%\n"
    }
   },
   "outputs": [
    {
     "name": "stdout",
     "output_type": "stream",
     "text": [
      "<class 'pandas.core.frame.DataFrame'>\n",
      "RangeIndex: 721 entries, 0 to 720\n",
      "Data columns (total 23 columns):\n",
      " #   Column            Non-Null Count  Dtype  \n",
      "---  ------            --------------  -----  \n",
      " 0   Number            721 non-null    int64  \n",
      " 1   Name              721 non-null    object \n",
      " 2   Type_1            721 non-null    object \n",
      " 3   Type_2            721 non-null    object \n",
      " 4   Total             721 non-null    int64  \n",
      " 5   HP                721 non-null    int64  \n",
      " 6   Attack            721 non-null    int64  \n",
      " 7   Defense           721 non-null    int64  \n",
      " 8   Sp_Atk            721 non-null    int64  \n",
      " 9   Sp_Def            721 non-null    int64  \n",
      " 10  Speed             721 non-null    int64  \n",
      " 11  Generation        721 non-null    int64  \n",
      " 12  isLegendary       721 non-null    bool   \n",
      " 13  Color             721 non-null    object \n",
      " 14  hasGender         721 non-null    bool   \n",
      " 15  Pr_Male           721 non-null    float64\n",
      " 16  Egg_Group_1       721 non-null    object \n",
      " 17  Egg_Group_2       721 non-null    object \n",
      " 18  hasMegaEvolution  721 non-null    bool   \n",
      " 19  Height_m          721 non-null    float64\n",
      " 20  Weight_kg         721 non-null    float64\n",
      " 21  Catch_Rate        721 non-null    int64  \n",
      " 22  Body_Style        721 non-null    object \n",
      "dtypes: bool(3), float64(3), int64(10), object(7)\n",
      "memory usage: 114.9+ KB\n"
     ]
    }
   ],
   "source": [
    "# dealing with null values \n",
    "\n",
    "# changing null values of Type_2 to string \"None\"\n",
    "pokemon['Type_2'].fillna(\"None\", inplace = True)\n",
    "# changing null values of Egg_Group_2 to string \"None\"\n",
    "pokemon['Egg_Group_2'].fillna(\"None\", inplace = True)\n",
    "# changing null values of Pr_Male to 999\n",
    "pokemon['Pr_Male'].fillna(999, inplace = True)\n",
    "\n",
    "# Now there are no more null values.\n",
    "pokemon.info()"
   ]
  },
  {
   "cell_type": "markdown",
   "id": "96f023a1",
   "metadata": {
    "collapsed": false,
    "pycharm": {
     "name": "#%% md\n"
    }
   },
   "source": [
    "## 4. Visualising again, now with a complete dataset"
   ]
  },
  {
   "cell_type": "code",
   "execution_count": 8,
   "id": "31f7293f",
   "metadata": {
    "collapsed": false,
    "pycharm": {
     "name": "#%%\n"
    }
   },
   "outputs": [
    {
     "data": {
      "text/plain": [
       "<AxesSubplot:>"
      ]
     },
     "execution_count": 8,
     "metadata": {},
     "output_type": "execute_result"
    },
    {
     "data": {
      "image/png": "[encoded data removed]",
      "text/plain": [
       "<Figure size 2160x720 with 1 Axes>"
      ]
     },
     "metadata": {
      "needs_background": "light"
     },
     "output_type": "display_data"
    }
   ],
   "source": [
    "# Generating a box plot to view the numerical data\n",
    "\n",
    "plt.figure(figsize = (30, 10))\n",
    "# Taking all numerical data to plot\n",
    "num_data = pokemon[['Total', 'HP', 'Attack', 'Defense', 'Sp_Atk', 'Sp_Def', 'Speed', 'Generation', 'Height_m', 'Weight_kg', 'Catch_Rate']]\n",
    "# Generating a box plot to visualize the statistical summary \n",
    "sns.boxplot(data = num_data)"
   ]
  },
  {
   "cell_type": "markdown",
   "id": "0506418f",
   "metadata": {
    "collapsed": false,
    "pycharm": {
     "name": "#%% md\n"
    }
   },
   "source": [
    "## 5. Dealing with Categorical Data\n",
    "\n",
    "We will convert the categorical data into numerical. Why? (Someone answer this)\n"
   ]
  },
  {
   "cell_type": "code",
   "execution_count": 9,
   "id": "255e5300",
   "metadata": {
    "collapsed": false,
    "pycharm": {
     "name": "#%%\n"
    }
   },
   "outputs": [
    {
     "data": {
      "text/html": [
       "<div>\n",
       "<style scoped>\n",
       "    .dataframe tbody tr th:only-of-type {\n",
       "        vertical-align: middle;\n",
       "    }\n",
       "\n",
       "    .dataframe tbody tr th {\n",
       "        vertical-align: top;\n",
       "    }\n",
       "\n",
       "    .dataframe thead th {\n",
       "        text-align: right;\n",
       "    }\n",
       "</style>\n",
       "<table border=\"1\" class=\"dataframe\">\n",
       "  <thead>\n",
       "    <tr style=\"text-align: right;\">\n",
       "      <th></th>\n",
       "      <th>Type_1</th>\n",
       "      <th>Type_2</th>\n",
       "      <th>Egg_Group_1</th>\n",
       "      <th>Egg_Group_2</th>\n",
       "      <th>Color</th>\n",
       "      <th>Body_Style</th>\n",
       "      <th>isLegendary</th>\n",
       "      <th>hasMegaEvolution</th>\n",
       "      <th>hasGender</th>\n",
       "    </tr>\n",
       "  </thead>\n",
       "  <tbody>\n",
       "    <tr>\n",
       "      <th>0</th>\n",
       "      <td>Grass</td>\n",
       "      <td>Poison</td>\n",
       "      <td>Monster</td>\n",
       "      <td>Grass</td>\n",
       "      <td>Green</td>\n",
       "      <td>quadruped</td>\n",
       "      <td>False</td>\n",
       "      <td>False</td>\n",
       "      <td>True</td>\n",
       "    </tr>\n",
       "    <tr>\n",
       "      <th>1</th>\n",
       "      <td>Grass</td>\n",
       "      <td>Poison</td>\n",
       "      <td>Monster</td>\n",
       "      <td>Grass</td>\n",
       "      <td>Green</td>\n",
       "      <td>quadruped</td>\n",
       "      <td>False</td>\n",
       "      <td>False</td>\n",
       "      <td>True</td>\n",
       "    </tr>\n",
       "    <tr>\n",
       "      <th>2</th>\n",
       "      <td>Grass</td>\n",
       "      <td>Poison</td>\n",
       "      <td>Monster</td>\n",
       "      <td>Grass</td>\n",
       "      <td>Green</td>\n",
       "      <td>quadruped</td>\n",
       "      <td>False</td>\n",
       "      <td>True</td>\n",
       "      <td>True</td>\n",
       "    </tr>\n",
       "    <tr>\n",
       "      <th>3</th>\n",
       "      <td>Fire</td>\n",
       "      <td>None</td>\n",
       "      <td>Monster</td>\n",
       "      <td>Dragon</td>\n",
       "      <td>Red</td>\n",
       "      <td>bipedal_tailed</td>\n",
       "      <td>False</td>\n",
       "      <td>False</td>\n",
       "      <td>True</td>\n",
       "    </tr>\n",
       "    <tr>\n",
       "      <th>4</th>\n",
       "      <td>Fire</td>\n",
       "      <td>None</td>\n",
       "      <td>Monster</td>\n",
       "      <td>Dragon</td>\n",
       "      <td>Red</td>\n",
       "      <td>bipedal_tailed</td>\n",
       "      <td>False</td>\n",
       "      <td>False</td>\n",
       "      <td>True</td>\n",
       "    </tr>\n",
       "  </tbody>\n",
       "</table>\n",
       "</div>"
      ],
      "text/plain": [
       "  Type_1  Type_2 Egg_Group_1 Egg_Group_2  Color      Body_Style  isLegendary  \\\n",
       "0  Grass  Poison     Monster       Grass  Green       quadruped        False   \n",
       "1  Grass  Poison     Monster       Grass  Green       quadruped        False   \n",
       "2  Grass  Poison     Monster       Grass  Green       quadruped        False   \n",
       "3   Fire    None     Monster      Dragon    Red  bipedal_tailed        False   \n",
       "4   Fire    None     Monster      Dragon    Red  bipedal_tailed        False   \n",
       "\n",
       "   hasMegaEvolution  hasGender  \n",
       "0             False       True  \n",
       "1             False       True  \n",
       "2              True       True  \n",
       "3             False       True  \n",
       "4             False       True  "
      ]
     },
     "execution_count": 9,
     "metadata": {},
     "output_type": "execute_result"
    }
   ],
   "source": [
    "# The data before:\n",
    "categorical_attributes = ['Type_1', 'Type_2', 'Egg_Group_1', 'Egg_Group_2', 'Color', 'Body_Style', 'isLegendary', 'hasMegaEvolution', 'hasGender']\n",
    "pokemon[categorical_attributes].head()"
   ]
  },
  {
   "cell_type": "code",
   "execution_count": 10,
   "id": "785d633f",
   "metadata": {
    "collapsed": false,
    "pycharm": {
     "name": "#%%\n"
    }
   },
   "outputs": [],
   "source": [
    "# Changing the categorical data to numbers.\n",
    "from sklearn.preprocessing import OrdinalEncoder\n",
    "\n",
    "enc = OrdinalEncoder()\n",
    "pokemon[categorical_attributes] = enc.fit_transform(pokemon[categorical_attributes]).astype(int)"
   ]
  },
  {
   "cell_type": "code",
   "execution_count": 11,
   "id": "da1ad4aa",
   "metadata": {
    "collapsed": false,
    "pycharm": {
     "name": "#%%\n"
    }
   },
   "outputs": [
    {
     "name": "stdout",
     "output_type": "stream",
     "text": [
      "<class 'pandas.core.frame.DataFrame'>\n",
      "RangeIndex: 721 entries, 0 to 720\n",
      "Data columns (total 23 columns):\n",
      " #   Column            Non-Null Count  Dtype  \n",
      "---  ------            --------------  -----  \n",
      " 0   Number            721 non-null    int64  \n",
      " 1   Name              721 non-null    object \n",
      " 2   Type_1            721 non-null    int32  \n",
      " 3   Type_2            721 non-null    int32  \n",
      " 4   Total             721 non-null    int64  \n",
      " 5   HP                721 non-null    int64  \n",
      " 6   Attack            721 non-null    int64  \n",
      " 7   Defense           721 non-null    int64  \n",
      " 8   Sp_Atk            721 non-null    int64  \n",
      " 9   Sp_Def            721 non-null    int64  \n",
      " 10  Speed             721 non-null    int64  \n",
      " 11  Generation        721 non-null    int64  \n",
      " 12  isLegendary       721 non-null    int32  \n",
      " 13  Color             721 non-null    int32  \n",
      " 14  hasGender         721 non-null    int32  \n",
      " 15  Pr_Male           721 non-null    float64\n",
      " 16  Egg_Group_1       721 non-null    int32  \n",
      " 17  Egg_Group_2       721 non-null    int32  \n",
      " 18  hasMegaEvolution  721 non-null    int32  \n",
      " 19  Height_m          721 non-null    float64\n",
      " 20  Weight_kg         721 non-null    float64\n",
      " 21  Catch_Rate        721 non-null    int64  \n",
      " 22  Body_Style        721 non-null    int32  \n",
      "dtypes: float64(3), int32(9), int64(10), object(1)\n",
      "memory usage: 104.3+ KB\n"
     ]
    }
   ],
   "source": [
    "# Now they are all numerical\n",
    "pokemon.info()"
   ]
  },
  {
   "cell_type": "code",
   "execution_count": 12,
   "id": "27d91148",
   "metadata": {
    "collapsed": false,
    "pycharm": {
     "name": "#%%\n"
    }
   },
   "outputs": [
    {
     "data": {
      "text/html": [
       "<div>\n",
       "<style scoped>\n",
       "    .dataframe tbody tr th:only-of-type {\n",
       "        vertical-align: middle;\n",
       "    }\n",
       "\n",
       "    .dataframe tbody tr th {\n",
       "        vertical-align: top;\n",
       "    }\n",
       "\n",
       "    .dataframe thead th {\n",
       "        text-align: right;\n",
       "    }\n",
       "</style>\n",
       "<table border=\"1\" class=\"dataframe\">\n",
       "  <thead>\n",
       "    <tr style=\"text-align: right;\">\n",
       "      <th></th>\n",
       "      <th>Type_1</th>\n",
       "      <th>Type_2</th>\n",
       "      <th>Egg_Group_1</th>\n",
       "      <th>Egg_Group_2</th>\n",
       "      <th>Color</th>\n",
       "      <th>Body_Style</th>\n",
       "      <th>isLegendary</th>\n",
       "      <th>hasMegaEvolution</th>\n",
       "      <th>hasGender</th>\n",
       "    </tr>\n",
       "  </thead>\n",
       "  <tbody>\n",
       "    <tr>\n",
       "      <th>0</th>\n",
       "      <td>9</td>\n",
       "      <td>14</td>\n",
       "      <td>10</td>\n",
       "      <td>6</td>\n",
       "      <td>3</td>\n",
       "      <td>9</td>\n",
       "      <td>0</td>\n",
       "      <td>0</td>\n",
       "      <td>1</td>\n",
       "    </tr>\n",
       "    <tr>\n",
       "      <th>1</th>\n",
       "      <td>9</td>\n",
       "      <td>14</td>\n",
       "      <td>10</td>\n",
       "      <td>6</td>\n",
       "      <td>3</td>\n",
       "      <td>9</td>\n",
       "      <td>0</td>\n",
       "      <td>0</td>\n",
       "      <td>1</td>\n",
       "    </tr>\n",
       "    <tr>\n",
       "      <th>2</th>\n",
       "      <td>9</td>\n",
       "      <td>14</td>\n",
       "      <td>10</td>\n",
       "      <td>6</td>\n",
       "      <td>3</td>\n",
       "      <td>9</td>\n",
       "      <td>0</td>\n",
       "      <td>1</td>\n",
       "      <td>1</td>\n",
       "    </tr>\n",
       "    <tr>\n",
       "      <th>3</th>\n",
       "      <td>6</td>\n",
       "      <td>12</td>\n",
       "      <td>10</td>\n",
       "      <td>2</td>\n",
       "      <td>7</td>\n",
       "      <td>0</td>\n",
       "      <td>0</td>\n",
       "      <td>0</td>\n",
       "      <td>1</td>\n",
       "    </tr>\n",
       "    <tr>\n",
       "      <th>4</th>\n",
       "      <td>6</td>\n",
       "      <td>12</td>\n",
       "      <td>10</td>\n",
       "      <td>2</td>\n",
       "      <td>7</td>\n",
       "      <td>0</td>\n",
       "      <td>0</td>\n",
       "      <td>0</td>\n",
       "      <td>1</td>\n",
       "    </tr>\n",
       "  </tbody>\n",
       "</table>\n",
       "</div>"
      ],
      "text/plain": [
       "   Type_1  Type_2  Egg_Group_1  Egg_Group_2  Color  Body_Style  isLegendary  \\\n",
       "0       9      14           10            6      3           9            0   \n",
       "1       9      14           10            6      3           9            0   \n",
       "2       9      14           10            6      3           9            0   \n",
       "3       6      12           10            2      7           0            0   \n",
       "4       6      12           10            2      7           0            0   \n",
       "\n",
       "   hasMegaEvolution  hasGender  \n",
       "0                 0          1  \n",
       "1                 0          1  \n",
       "2                 1          1  \n",
       "3                 0          1  \n",
       "4                 0          1  "
      ]
     },
     "execution_count": 12,
     "metadata": {},
     "output_type": "execute_result"
    }
   ],
   "source": [
    "# The data after:\n",
    "pokemon[categorical_attributes].head()"
   ]
  },
  {
   "cell_type": "markdown",
   "id": "ceed7e5d",
   "metadata": {
    "collapsed": false,
    "pycharm": {
     "name": "#%% md\n"
    }
   },
   "source": [
    "## 6. Dropping Unecessary Features"
   ]
  },
  {
   "cell_type": "code",
   "execution_count": 13,
   "id": "853ba3a2",
   "metadata": {
    "collapsed": false,
    "pycharm": {
     "name": "#%%\n"
    }
   },
   "outputs": [
    {
     "data": {
      "text/html": [
       "<div>\n",
       "<style scoped>\n",
       "    .dataframe tbody tr th:only-of-type {\n",
       "        vertical-align: middle;\n",
       "    }\n",
       "\n",
       "    .dataframe tbody tr th {\n",
       "        vertical-align: top;\n",
       "    }\n",
       "\n",
       "    .dataframe thead th {\n",
       "        text-align: right;\n",
       "    }\n",
       "</style>\n",
       "<table border=\"1\" class=\"dataframe\">\n",
       "  <thead>\n",
       "    <tr style=\"text-align: right;\">\n",
       "      <th></th>\n",
       "      <th>Type_1</th>\n",
       "      <th>Type_2</th>\n",
       "      <th>Total</th>\n",
       "      <th>HP</th>\n",
       "      <th>Attack</th>\n",
       "      <th>Defense</th>\n",
       "      <th>Sp_Atk</th>\n",
       "      <th>Sp_Def</th>\n",
       "      <th>Speed</th>\n",
       "      <th>Generation</th>\n",
       "      <th>...</th>\n",
       "      <th>Color</th>\n",
       "      <th>hasGender</th>\n",
       "      <th>Pr_Male</th>\n",
       "      <th>Egg_Group_1</th>\n",
       "      <th>Egg_Group_2</th>\n",
       "      <th>hasMegaEvolution</th>\n",
       "      <th>Height_m</th>\n",
       "      <th>Weight_kg</th>\n",
       "      <th>Catch_Rate</th>\n",
       "      <th>Body_Style</th>\n",
       "    </tr>\n",
       "  </thead>\n",
       "  <tbody>\n",
       "    <tr>\n",
       "      <th>0</th>\n",
       "      <td>9</td>\n",
       "      <td>14</td>\n",
       "      <td>318</td>\n",
       "      <td>45</td>\n",
       "      <td>49</td>\n",
       "      <td>49</td>\n",
       "      <td>65</td>\n",
       "      <td>65</td>\n",
       "      <td>45</td>\n",
       "      <td>1</td>\n",
       "      <td>...</td>\n",
       "      <td>3</td>\n",
       "      <td>1</td>\n",
       "      <td>0.875</td>\n",
       "      <td>10</td>\n",
       "      <td>6</td>\n",
       "      <td>0</td>\n",
       "      <td>0.71</td>\n",
       "      <td>6.9</td>\n",
       "      <td>45</td>\n",
       "      <td>9</td>\n",
       "    </tr>\n",
       "    <tr>\n",
       "      <th>1</th>\n",
       "      <td>9</td>\n",
       "      <td>14</td>\n",
       "      <td>405</td>\n",
       "      <td>60</td>\n",
       "      <td>62</td>\n",
       "      <td>63</td>\n",
       "      <td>80</td>\n",
       "      <td>80</td>\n",
       "      <td>60</td>\n",
       "      <td>1</td>\n",
       "      <td>...</td>\n",
       "      <td>3</td>\n",
       "      <td>1</td>\n",
       "      <td>0.875</td>\n",
       "      <td>10</td>\n",
       "      <td>6</td>\n",
       "      <td>0</td>\n",
       "      <td>0.99</td>\n",
       "      <td>13.0</td>\n",
       "      <td>45</td>\n",
       "      <td>9</td>\n",
       "    </tr>\n",
       "    <tr>\n",
       "      <th>2</th>\n",
       "      <td>9</td>\n",
       "      <td>14</td>\n",
       "      <td>525</td>\n",
       "      <td>80</td>\n",
       "      <td>82</td>\n",
       "      <td>83</td>\n",
       "      <td>100</td>\n",
       "      <td>100</td>\n",
       "      <td>80</td>\n",
       "      <td>1</td>\n",
       "      <td>...</td>\n",
       "      <td>3</td>\n",
       "      <td>1</td>\n",
       "      <td>0.875</td>\n",
       "      <td>10</td>\n",
       "      <td>6</td>\n",
       "      <td>1</td>\n",
       "      <td>2.01</td>\n",
       "      <td>100.0</td>\n",
       "      <td>45</td>\n",
       "      <td>9</td>\n",
       "    </tr>\n",
       "    <tr>\n",
       "      <th>3</th>\n",
       "      <td>6</td>\n",
       "      <td>12</td>\n",
       "      <td>309</td>\n",
       "      <td>39</td>\n",
       "      <td>52</td>\n",
       "      <td>43</td>\n",
       "      <td>60</td>\n",
       "      <td>50</td>\n",
       "      <td>65</td>\n",
       "      <td>1</td>\n",
       "      <td>...</td>\n",
       "      <td>7</td>\n",
       "      <td>1</td>\n",
       "      <td>0.875</td>\n",
       "      <td>10</td>\n",
       "      <td>2</td>\n",
       "      <td>0</td>\n",
       "      <td>0.61</td>\n",
       "      <td>8.5</td>\n",
       "      <td>45</td>\n",
       "      <td>0</td>\n",
       "    </tr>\n",
       "    <tr>\n",
       "      <th>4</th>\n",
       "      <td>6</td>\n",
       "      <td>12</td>\n",
       "      <td>405</td>\n",
       "      <td>58</td>\n",
       "      <td>64</td>\n",
       "      <td>58</td>\n",
       "      <td>80</td>\n",
       "      <td>65</td>\n",
       "      <td>80</td>\n",
       "      <td>1</td>\n",
       "      <td>...</td>\n",
       "      <td>7</td>\n",
       "      <td>1</td>\n",
       "      <td>0.875</td>\n",
       "      <td>10</td>\n",
       "      <td>2</td>\n",
       "      <td>0</td>\n",
       "      <td>1.09</td>\n",
       "      <td>19.0</td>\n",
       "      <td>45</td>\n",
       "      <td>0</td>\n",
       "    </tr>\n",
       "  </tbody>\n",
       "</table>\n",
       "<p>5 rows × 21 columns</p>\n",
       "</div>"
      ],
      "text/plain": [
       "   Type_1  Type_2  Total  HP  Attack  Defense  Sp_Atk  Sp_Def  Speed  \\\n",
       "0       9      14    318  45      49       49      65      65     45   \n",
       "1       9      14    405  60      62       63      80      80     60   \n",
       "2       9      14    525  80      82       83     100     100     80   \n",
       "3       6      12    309  39      52       43      60      50     65   \n",
       "4       6      12    405  58      64       58      80      65     80   \n",
       "\n",
       "   Generation  ...  Color  hasGender  Pr_Male  Egg_Group_1  Egg_Group_2  \\\n",
       "0           1  ...      3          1    0.875           10            6   \n",
       "1           1  ...      3          1    0.875           10            6   \n",
       "2           1  ...      3          1    0.875           10            6   \n",
       "3           1  ...      7          1    0.875           10            2   \n",
       "4           1  ...      7          1    0.875           10            2   \n",
       "\n",
       "   hasMegaEvolution  Height_m  Weight_kg  Catch_Rate  Body_Style  \n",
       "0                 0      0.71        6.9          45           9  \n",
       "1                 0      0.99       13.0          45           9  \n",
       "2                 1      2.01      100.0          45           9  \n",
       "3                 0      0.61        8.5          45           0  \n",
       "4                 0      1.09       19.0          45           0  \n",
       "\n",
       "[5 rows x 21 columns]"
      ]
     },
     "execution_count": 13,
     "metadata": {},
     "output_type": "execute_result"
    }
   ],
   "source": [
    "# Number and name are unnecessary because they will not help us classify the target attributes\n",
    "pokemon = pokemon.drop(['Number','Name'], axis=1)\n",
    "pokemon.head()"
   ]
  },
  {
   "cell_type": "markdown",
   "id": "95844f59",
   "metadata": {
    "collapsed": false,
    "pycharm": {
     "name": "#%% md\n"
    }
   },
   "source": [
    "## 7. Plotting the Correlation Matrix\n",
    "We want to see the correlation between each attributes"
   ]
  },
  {
   "cell_type": "code",
   "execution_count": 14,
   "id": "121bad88",
   "metadata": {
    "collapsed": false,
    "pycharm": {
     "name": "#%%\n"
    }
   },
   "outputs": [
    {
     "data": {
      "text/plain": [
       "<AxesSubplot:>"
      ]
     },
     "execution_count": 14,
     "metadata": {},
     "output_type": "execute_result"
    },
    {
     "data": {
      "image/png": "[encoded data removed]",
      "text/plain": [
       "<Figure size 1440x720 with 2 Axes>"
      ]
     },
     "metadata": {
      "needs_background": "light"
     },
     "output_type": "display_data"
    }
   ],
   "source": [
    "# We want to look at the correlations between each attribute\n",
    "mask = np.array(pokemon.corr())\n",
    "mask[np.tril_indices_from(mask)] = False\n",
    "\n",
    "fig, ax = plt.subplots()\n",
    "fig.set_size_inches(20,10)\n",
    "sns.heatmap(pokemon.corr(), mask = mask, annot=True, cmap='viridis', linewidths=.5)"
   ]
  },
  {
   "cell_type": "markdown",
   "id": "eccbe7a2",
   "metadata": {
    "collapsed": false,
    "pycharm": {
     "name": "#%% md\n"
    }
   },
   "source": [
    "# Week 3:"
   ]
  },
  {
   "cell_type": "code",
   "execution_count": 15,
   "id": "86737461",
   "metadata": {
    "collapsed": false,
    "pycharm": {
     "name": "#%%\n"
    }
   },
   "outputs": [],
   "source": [
    "dic_poke = {}\n",
    "\n",
    "pokemon_gens = pokemon['Generation'].unique().tolist()\n",
    "for i in pokemon_gens:\n",
    "    pokemon_temp = pokemon.copy()\n",
    "    pokemon_temp[\"Generation\"] = pokemon_temp[\"Generation\"].replace([x for x in pokemon_gens if x != i], 0)\n",
    "    pokemon_temp[\"Generation\"] = pokemon_temp[\"Generation\"].replace(i, 1)\n",
    "    top_corr = pokemon_temp.corr()[\"Generation\"]\n",
    "    top_corr = abs(top_corr).sort_values(ascending=False).drop('Generation')\n",
    "\n",
    "    dic_poke[f\"{i}_1\"] = pokemon_temp[top_corr.index[:2].tolist()].columns.to_list()\n",
    "    dic_poke[f\"{i}_2\"] = pokemon_temp[top_corr.index[:5].tolist()].columns.to_list()\n",
    "    dic_poke[f\"{i}_3\"] = pokemon_temp[top_corr.index[:10].tolist()].columns.to_list()"
   ]
  },
  {
   "cell_type": "code",
   "execution_count": 16,
   "id": "073453d7",
   "metadata": {
    "collapsed": false,
    "pycharm": {
     "name": "#%%\n"
    }
   },
   "outputs": [
    {
     "name": "stdout",
     "output_type": "stream",
     "text": [
      "['Type_2', 'HP', 'Sp_Def', 'Speed', 'Egg_Group_1', 'Total', 'Attack', 'Catch_Rate', 'hasMegaEvolution']\n",
      "['Weight_kg', 'Type_2', 'HP', 'Sp_Def', 'Egg_Group_2', 'Speed', 'Type_1', 'isLegendary', 'Sp_Atk', 'Egg_Group_1', 'Total', 'Defense', 'Attack', 'Catch_Rate', 'hasMegaEvolution']\n",
      "['Sp_Atk', 'Egg_Group_1', 'Color', 'hasMegaEvolution', 'Sp_Def', 'Speed', 'hasGender', 'isLegendary', 'Pr_Male', 'Type_2', 'Egg_Group_2', 'Attack', 'Catch_Rate', 'Weight_kg', 'HP', 'Height_m', 'Type_1', 'Defense', 'Total']\n"
     ]
    }
   ],
   "source": [
    "#TODO: Mahmoud automate this (FOR LOOP)\n",
    "\n",
    "firstDst = list(set(dic_poke[\"1_1\"] + dic_poke[\"2_1\"] + dic_poke[\"3_1\"] + dic_poke[\"4_1\"] + dic_poke[\"5_1\"] +  dic_poke[\"6_1\"]))\n",
    "secondDst = list(set(dic_poke[\"1_2\"] + dic_poke[\"2_2\"] + dic_poke[\"3_2\"] + dic_poke[\"4_2\"] + dic_poke[\"5_2\"] +  dic_poke[\"6_2\"]))\n",
    "thirdDst = list(set(dic_poke[\"1_3\"] + dic_poke[\"2_3\"] + dic_poke[\"3_3\"] + dic_poke[\"4_3\"] + dic_poke[\"5_3\"] +  dic_poke[\"6_3\"]))\n",
    "\n",
    "print(firstDst)\n",
    "print(secondDst)\n",
    "print(thirdDst)"
   ]
  },
  {
   "cell_type": "code",
   "execution_count": 45,
   "id": "9efe5866",
   "metadata": {
    "collapsed": false,
    "pycharm": {
     "name": "#%%\n"
    }
   },
   "outputs": [],
   "source": [
    "from sklearn.preprocessing import StandardScaler\n",
    "from sklearn.linear_model import LogisticRegression\n",
    "\n",
    "# Creates the confusion matrix\n",
    "from sklearn.metrics import accuracy_score\n",
    "from sklearn.metrics import confusion_matrix\n",
    "from sklearn.model_selection import train_test_split\n",
    "\n",
    "def multi_class_classification(X, y):\n",
    "\n",
    "    X_train, X_test, y_train, y_test = train_test_split(X, y, test_size=0.3, random_state=10)\n",
    "\n",
    "    ss_train_test = StandardScaler()\n",
    "    multi_class_regression = LogisticRegression()\n",
    "    multi_class_regression.fit(ss_train_test.fit_transform(X_train), y_train)\n",
    "\n",
    "    # Predicting based off of the test data\n",
    "    predictions = multi_class_regression.predict(ss_train_test.fit_transform(X_test))\n",
    "\n",
    "    # Accuracy of the classifier\n",
    "    accuracy =  accuracy_score(y_test, predictions)\n",
    "\n",
    "    print('Accuracy of the multi class classifier = {:0.3f}'.format(accuracy))\n",
    "\n"
   ]
  },
  {
   "cell_type": "code",
   "execution_count": 18,
   "id": "2854c448",
   "metadata": {
    "collapsed": false,
    "pycharm": {
     "name": "#%%\n"
    }
   },
   "outputs": [
    {
     "name": "stdout",
     "output_type": "stream",
     "text": [
      "Features that are being used:  ['Type_2', 'HP', 'Sp_Def', 'Speed', 'Egg_Group_1', 'Total', 'Attack', 'Catch_Rate', 'hasMegaEvolution']\n",
      "Accuracy of the multi class classifier = 0.258\n",
      "\n",
      "\n",
      "Features that are being used:  ['Weight_kg', 'Type_2', 'HP', 'Sp_Def', 'Egg_Group_2', 'Speed', 'Type_1', 'isLegendary', 'Sp_Atk', 'Egg_Group_1', 'Total', 'Defense', 'Attack', 'Catch_Rate', 'hasMegaEvolution']\n",
      "Accuracy of the multi class classifier = 0.281\n",
      "\n",
      "\n",
      "Features that are being used:  ['Sp_Atk', 'Egg_Group_1', 'Color', 'hasMegaEvolution', 'Sp_Def', 'Speed', 'hasGender', 'isLegendary', 'Pr_Male', 'Type_2', 'Egg_Group_2', 'Attack', 'Catch_Rate', 'Weight_kg', 'HP', 'Height_m', 'Type_1', 'Defense', 'Total']\n",
      "Accuracy of the multi class classifier = 0.295\n"
     ]
    }
   ],
   "source": [
    "#Features extracted using pearsons R ...\n",
    "print(\"Features that are being used: \", pokemon[firstDst].keys().tolist())\n",
    "multi_class_classification(pokemon[firstDst], pokemon['Generation'])\n",
    "print('\\n')\n",
    "print(\"Features that are being used: \", pokemon[secondDst].keys().tolist())\n",
    "multi_class_classification(pokemon[secondDst], pokemon['Generation'])\n",
    "print('\\n')\n",
    "print(\"Features that are being used: \", pokemon[thirdDst].keys().tolist())\n",
    "multi_class_classification(pokemon[thirdDst], pokemon['Generation'])"
   ]
  },
  {
   "cell_type": "markdown",
   "id": "a091fcc8",
   "metadata": {},
   "source": [
    "## Mutual Information"
   ]
  },
  {
   "cell_type": "code",
   "execution_count": 19,
   "id": "b6b9b17a",
   "metadata": {},
   "outputs": [],
   "source": [
    "# preparing data for mutual information\n",
    "from sklearn import preprocessing\n",
    "Data = pokemon.drop(columns = 'Generation').values\n",
    "target = pokemon['Generation']\n",
    "Data = preprocessing.MinMaxScaler().fit_transform(Data)\n",
    "target = preprocessing.LabelEncoder().fit_transform(target)"
   ]
  },
  {
   "cell_type": "code",
   "execution_count": 20,
   "id": "530c7fa8",
   "metadata": {},
   "outputs": [
    {
     "data": {
      "text/plain": [
       "array(['Total', 'Weight_kg', 'Type_2', 'Speed', 'HP'], dtype=object)"
      ]
     },
     "execution_count": 20,
     "metadata": {},
     "output_type": "execute_result"
    }
   ],
   "source": [
    "# The code below returns the indices of the 5 features that have the highest mutual information value\n",
    "from sklearn import feature_selection as fs\n",
    "num_features = 5\n",
    "fs_fit_mutual_info = fs.SelectKBest(fs.mutual_info_classif, k=num_features)\n",
    "fs_fit_mutual_info.fit_transform(Data, target)\n",
    "fs_indices_mutual_info = np.argsort(fs_fit_mutual_info.scores_)[::-1][0:num_features]\n",
    "best_features_mutual_info = pokemon.columns[fs_indices_mutual_info].values\n",
    "best_features_mutual_info"
   ]
  },
  {
   "cell_type": "code",
   "execution_count": 21,
   "id": "af255775",
   "metadata": {},
   "outputs": [
    {
     "data": {
      "text/plain": [
       "array([0.11590318, 0.10481454, 0.10291478, 0.09578316, 0.08650349])"
      ]
     },
     "execution_count": 21,
     "metadata": {},
     "output_type": "execute_result"
    }
   ],
   "source": [
    "# Gives the scores of the values we got before\n",
    "feature_importances_mutual_info = fs_fit_mutual_info.scores_[fs_indices_mutual_info]\n",
    "feature_importances_mutual_info"
   ]
  },
  {
   "cell_type": "code",
   "execution_count": 22,
   "id": "79d8ea7f",
   "metadata": {},
   "outputs": [],
   "source": [
    "# Function to plot a graph to plot the feature selection and show correspondance to different feature selection methods\n",
    "import matplotlib.pyplot as plt\n",
    "%matplotlib inline \n",
    "%config InlineBackend.figure_format = 'retina'\n",
    "plt.style.use(\"ggplot\")\n",
    "\n",
    "def plot_imp(best_features, scores, method_name):   \n",
    "    plt.barh(best_features, scores)\n",
    "    plt.title(method_name + ' Feature Importances for gen')\n",
    "    plt.xlabel(\"Importance\")\n",
    "    plt.ylabel(\"Features\")\n",
    "    plt.show()"
   ]
  },
  {
   "cell_type": "code",
   "execution_count": 23,
   "id": "4374b6d3",
   "metadata": {},
   "outputs": [
    {
     "data": {
      "image/png": "[encoded data removed]",
      "text/plain": [
       "<Figure size 432x288 with 1 Axes>"
      ]
     },
     "metadata": {
      "image/png": {
       "height": 281,
       "width": 430
      }
     },
     "output_type": "display_data"
    }
   ],
   "source": [
    "plot_imp(best_features_mutual_info, feature_importances_mutual_info, 'Mutual Information')"
   ]
  },
  {
   "cell_type": "code",
   "execution_count": 24,
   "id": "1932a797",
   "metadata": {},
   "outputs": [],
   "source": [
    "# A method used during valadiation where we use stratified 5-fold cross-validation with 3 repetitions and set the random state to 999\n",
    "from sklearn.model_selection import cross_val_score, RepeatedStratifiedKFold\n",
    "cv_method = RepeatedStratifiedKFold(n_splits=5, \n",
    "                                     n_repeats=3,\n",
    "                                     random_state=999)\n",
    "# Specifies scoring metric\n",
    "scoring_metric = 'accuracy'"
   ]
  },
  {
   "cell_type": "code",
   "execution_count": 25,
   "id": "538ad0de",
   "metadata": {},
   "outputs": [],
   "source": [
    "# Uses the decision tree classifier with default values.\n",
    "from sklearn.tree import DecisionTreeClassifier\n",
    "clf = DecisionTreeClassifier(random_state=999)"
   ]
  },
  {
   "cell_type": "code",
   "execution_count": 26,
   "id": "b4429b2e",
   "metadata": {},
   "outputs": [
    {
     "data": {
      "text/plain": [
       "0.245"
      ]
     },
     "execution_count": 26,
     "metadata": {},
     "output_type": "execute_result"
    }
   ],
   "source": [
    "# Evaluate the performance of these 5 features for mutual Information\n",
    "cv_results_mutual_info = cross_val_score(estimator=clf,\n",
    "                             X=Data[:, fs_indices_mutual_info],\n",
    "                             y=target, \n",
    "                             cv=cv_method, \n",
    "                             scoring=scoring_metric)\n",
    "cv_results_mutual_info.mean().round(3)"
   ]
  },
  {
   "cell_type": "markdown",
   "id": "10ab6122",
   "metadata": {},
   "source": [
    "## Chi Squared"
   ]
  },
  {
   "cell_type": "code",
   "execution_count": 36,
   "id": "f694806f",
   "metadata": {},
   "outputs": [
    {
     "name": "stdout",
     "output_type": "stream",
     "text": [
      "Original number of features: (721, 20)\n",
      "Reduced number of features: (721, 2)\n",
      "Features reduced to: ['Pr_Male' 'Weight_kg']\n"
     ]
    }
   ],
   "source": [
    "from sklearn.feature_selection import SelectKBest\n",
    "from sklearn.feature_selection import chi2\n",
    "\n",
    "X = pokemon.drop(['Generation'], axis=1)\n",
    "y = pokemon['Generation']\n",
    "\n",
    "\n",
    "X_chi2 = SelectKBest(chi2, k=2)\n",
    "X_kbest2 = X_chi2.fit_transform(X, y)\n",
    "print('Original number of features:', X.shape)\n",
    "print('Reduced number of features:', X_kbest2.shape)\n",
    "print('Features reduced to:', X_chi2.get_feature_names_out())"
   ]
  },
  {
   "cell_type": "code",
   "execution_count": 37,
   "id": "5595c2fd",
   "metadata": {},
   "outputs": [
    {
     "name": "stdout",
     "output_type": "stream",
     "text": [
      "Original number of features: (721, 20)\n",
      "Reduced number of features: (721, 5)\n",
      "Features reduced to: ['Total' 'Attack' 'Pr_Male' 'Weight_kg' 'Catch_Rate']\n"
     ]
    }
   ],
   "source": [
    "# 5 best features\n",
    "X_chi5 = SelectKBest(chi2, k = 5)\n",
    "X_kbest5 = X_chi5.fit_transform(X, y)\n",
    "print('Original number of features:', X.shape)\n",
    "print('Reduced number of features:', X_kbest5.shape)\n",
    "print('Features reduced to:', X_chi5.get_feature_names_out())"
   ]
  },
  {
   "cell_type": "code",
   "execution_count": 38,
   "id": "8ea8b958",
   "metadata": {},
   "outputs": [
    {
     "name": "stdout",
     "output_type": "stream",
     "text": [
      "Original number of features: (721, 20)\n",
      "Reduced number of features: (721, 10)\n",
      "Features reduced to: ['Total' 'HP' 'Attack' 'Defense' 'Sp_Atk' 'Sp_Def' 'Speed' 'Pr_Male'\n",
      " 'Weight_kg' 'Catch_Rate']\n"
     ]
    }
   ],
   "source": [
    "# 10 best features\n",
    "X_chi10 = SelectKBest(chi2, k = 10)\n",
    "X_kbest10 = X_chi10.fit_transform(X, y)\n",
    "print('Original number of features:', X.shape)\n",
    "print('Reduced number of features:', X_kbest10.shape)\n",
    "print('Features reduced to:', X_chi10.get_feature_names_out())"
   ]
  },
  {
   "cell_type": "markdown",
   "id": "8cfa3b8c",
   "metadata": {},
   "source": [
    "### Running Multi-Class Classification on the features selected by Chi"
   ]
  },
  {
   "cell_type": "code",
   "execution_count": 40,
   "id": "85514af9",
   "metadata": {},
   "outputs": [
    {
     "name": "stdout",
     "output_type": "stream",
     "text": [
      "Features that are being used:  (721, 2)\n",
      "Accuracy of the multi class classifier = 0.189\n",
      "\n",
      "\n",
      "Features that are being used:  (721, 5)\n",
      "Accuracy of the multi class classifier = 0.249\n",
      "\n",
      "\n",
      "Features that are being used:  (721, 10)\n",
      "Accuracy of the multi class classifier = 0.212\n",
      "\n",
      "\n"
     ]
    }
   ],
   "source": [
    "#Features extracted using chi ...\n",
    "print(\"Features that are being used: \", X_kbest2.shape)\n",
    "multi_class_classification(X_kbest2, pokemon['Generation'])\n",
    "print('\\n')\n",
    "print(\"Features that are being used: \", X_kbest5.shape)\n",
    "multi_class_classification(X_kbest5, pokemon['Generation'])\n",
    "print('\\n')\n",
    "print(\"Features that are being used: \", X_kbest10.shape)\n",
    "multi_class_classification(X_kbest10, pokemon['Generation'])\n",
    "print('\\n')\n"
   ]
  },
  {
   "cell_type": "markdown",
   "id": "681d9421",
   "metadata": {},
   "source": [
    "The 5 features selected by Chi produced the highest accuracy."
   ]
  },
  {
   "cell_type": "markdown",
   "id": "9960b731",
   "metadata": {},
   "source": [
    "# Evaluation Methods\n",
    "## Confusion Matrix for Evaluation"
   ]
  },
  {
   "cell_type": "code",
   "execution_count": 44,
   "id": "b5900029",
   "metadata": {},
   "outputs": [
    {
     "name": "stdout",
     "output_type": "stream",
     "text": [
      "<function confusion_matrix at 0x000001CE2DA39F70>\n"
     ]
    }
   ],
   "source": [
    "multi_class_confusion_matrix(X_kbest5, pokemon['Generation'])"
   ]
  },
  {
   "cell_type": "code",
   "execution_count": 46,
   "id": "1e25683f",
   "metadata": {},
   "outputs": [
    {
     "name": "stdout",
     "output_type": "stream",
     "text": [
      "[[18  3  7  3 10  0]\n",
      " [ 8  4  4  4 10  5]\n",
      " [13  1 15  2 10  2]\n",
      " [ 7  6  4  5  8  2]\n",
      " [12  1  8  3 25  3]\n",
      " [ 5  2  0  2  4  1]]\n"
     ]
    }
   ],
   "source": [
    "X_train, X_test, y_train, y_test = train_test_split(X, y, test_size=0.3, random_state=10)\n",
    "\n",
    "ss_train_test = StandardScaler()\n",
    "multi_class_regression = LogisticRegression()\n",
    "multi_class_regression.fit(ss_train_test.fit_transform(X_train), y_train)\n",
    "\n",
    "# Predicting based off of the test data\n",
    "predictions = multi_class_regression.predict(ss_train_test.fit_transform(X_test))\n",
    "\n",
    "from sklearn.metrics import confusion_matrix  \n",
    "\n",
    "confusion = confusion_matrix(y_test, predictions)\n",
    "print(confusion)"
   ]
  },
  {
   "cell_type": "code",
   "execution_count": 48,
   "id": "06afd8a8",
   "metadata": {},
   "outputs": [
    {
     "name": "stdout",
     "output_type": "stream",
     "text": [
      "\n",
      "Accuracy: 0.31\n",
      "\n",
      "Micro Precision: 0.31\n",
      "Micro Recall: 0.31\n",
      "Micro F1-score: 0.31\n",
      "\n",
      "Macro Precision: 0.27\n",
      "Macro Recall: 0.27\n",
      "Macro F1-score: 0.26\n",
      "\n",
      "Weighted Precision: 0.30\n",
      "Weighted Recall: 0.31\n",
      "Weighted F1-score: 0.30\n",
      "\n",
      "Classification Report\n",
      "\n",
      "              precision    recall  f1-score   support\n",
      "\n",
      "Generation 1       0.29      0.44      0.35        41\n",
      "Generation 2       0.24      0.11      0.15        35\n",
      "Generation 3       0.39      0.35      0.37        43\n",
      "Generation 4       0.26      0.16      0.20        32\n",
      "Generation 5       0.37      0.48      0.42        52\n",
      "Generation 6       0.08      0.07      0.07        14\n",
      "\n",
      "    accuracy                           0.31       217\n",
      "   macro avg       0.27      0.27      0.26       217\n",
      "weighted avg       0.30      0.31      0.30       217\n",
      "\n"
     ]
    }
   ],
   "source": [
    "#importing accuracy_score, precision_score, recall_score, f1_score\n",
    "from sklearn.metrics import accuracy_score, precision_score, recall_score, f1_score\n",
    "print('\\nAccuracy: {:.2f}\\n'.format(accuracy_score(y_test, predictions)))\n",
    "\n",
    "print('Micro Precision: {:.2f}'.format(precision_score(y_test, predictions, average='micro')))\n",
    "print('Micro Recall: {:.2f}'.format(recall_score(y_test, predictions, average='micro')))\n",
    "print('Micro F1-score: {:.2f}\\n'.format(f1_score(y_test, predictions, average='micro')))\n",
    "\n",
    "print('Macro Precision: {:.2f}'.format(precision_score(y_test, predictions, average='macro')))\n",
    "print('Macro Recall: {:.2f}'.format(recall_score(y_test, predictions, average='macro')))\n",
    "print('Macro F1-score: {:.2f}\\n'.format(f1_score(y_test, predictions, average='macro')))\n",
    "\n",
    "print('Weighted Precision: {:.2f}'.format(precision_score(y_test, predictions, average='weighted')))\n",
    "print('Weighted Recall: {:.2f}'.format(recall_score(y_test, predictions, average='weighted')))\n",
    "print('Weighted F1-score: {:.2f}'.format(f1_score(y_test, predictions, average='weighted')))\n",
    "\n",
    "from sklearn.metrics import classification_report\n",
    "print('\\nClassification Report\\n')\n",
    "print(classification_report(y_test, predictions, target_names=['Generation 1', 'Generation 2','Generation 3','Generation 4','Generation 5','Generation 6' ]))"
   ]
  }
 ],
 "metadata": {
  "kernelspec": {
   "display_name": "Python 3.9.12 ('base')",
   "language": "python",
   "name": "python3"
  },
  "language_info": {
   "codemirror_mode": {
    "name": "ipython",
    "version": 3
   },
   "file_extension": ".py",
   "mimetype": "text/x-python",
   "name": "python",
   "nbconvert_exporter": "python",
   "pygments_lexer": "ipython3",
   "version": "3.9.12"
  },
  "vscode": {
   "interpreter": {
    "hash": "e4d3d5844ec835cb994d9b961c91f9f9a1dfb3461f5792c6e96deb8bb5afec0d"
   }
  }
 },
 "nbformat": 4,
 "nbformat_minor": 5
}
