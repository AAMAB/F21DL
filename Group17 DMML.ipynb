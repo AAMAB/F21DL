{
 "cells": [
  {
   "cell_type": "markdown",
   "id": "0e3257e5",
   "metadata": {
    "collapsed": false,
    "pycharm": {
     "name": "#%% md\n"
    }
   },
   "source": [
    "# F21DL - Group 17"
   ]
  },
  {
   "cell_type": "markdown",
   "id": "22eeba75",
   "metadata": {
    "collapsed": false,
    "pycharm": {
     "name": "#%% md\n"
    }
   },
   "source": [
    "## Short-listed Tabular Datasets:\n",
    "1. **Pokémon for Data Mining and Machine Learning** - [Kaggle](https://www.kaggle.com/code/josutk/pokemon-type-identify)\n",
    "    - <font color='#90ee90'> 721 entries and 23 attributes for each entry, a mix of nominal and numerical data. </font>\n",
    "    - <font color='#90ee90'> There are only 2 attributes with over 50% null values, can be easily cleaned\n",
    "    and still lots of other attributes </font>\n",
    "    - <font color='#90ee90'> The dataset is 732Kb, so it does not use a lot of space. </font>\n",
    "   \n",
    "2. **Netflix Movies and TV Shows** - [Kaggle](https://www.kaggle.com/datasets/shivamb/netflix-shows)\n",
    "3. **Video Game Sales** - [Kaggle](https://www.kaggle.com/datasets/gregorut/videogamesales)"
   ]
  },
  {
   "cell_type": "markdown",
   "id": "aaa99fee",
   "metadata": {
    "collapsed": false,
    "pycharm": {
     "name": "#%% md\n"
    }
   },
   "source": [
    "## Short-listed Computer Vision Datasets\n",
    "4. **Fruits 360** - [Kaggle](https://www.kaggle.com/datasets/moltean/fruits)\n",
    "    - <font color='#90ee90'>The dataset is comprehensive which consist of 90000+ high-quality images of over 100 different classes</font>\n",
    "    - <font color='#90ee90'>The dataset consist of good quality, bad quality, and mixed quality fruit images</font>\n",
    "    - <font color='#90ee90'>This is a well known dataset with lots of papers and code</font>\n",
    "    - <font color='#90ee90'>The dataset has lots of training data which might result in better accuracy</font>\n",
    "    - <font color='#FF7F7F'>The data might require GPUs for training due to the sheer size of the dataset</font>\n",
    "5. **Pokemon Image Dataset** - [Kaggle](https://www.kaggle.com/datasets/vishalsubbiah/pokemon-images-and-types)"
   ]
  },
  {
   "cell_type": "markdown",
   "id": "2248e351",
   "metadata": {
    "collapsed": false,
    "pycharm": {
     "name": "#%% md\n"
    }
   },
   "source": [
    "### Selected Dataset:"
   ]
  },
  {
   "cell_type": "code",
   "execution_count": null,
   "metadata": {
    "collapsed": false,
    "pycharm": {
     "name": "#%%\n"
    }
   },
   "outputs": [],
   "source": []
  }
 ],
 "metadata": {
  "kernelspec": {
   "display_name": "Python 3 (ipykernel)",
   "language": "python",
   "name": "python3"
  },
  "language_info": {
   "codemirror_mode": {
    "name": "ipython",
    "version": 3
   },
   "file_extension": ".py",
   "mimetype": "text/x-python",
   "name": "python",
   "nbconvert_exporter": "python",
   "pygments_lexer": "ipython3",
   "version": "3.9.7"
  }
 },
 "nbformat": 4,
 "nbformat_minor": 5
}
