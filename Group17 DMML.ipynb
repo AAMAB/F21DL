{
 "cells": [
  {
   "cell_type": "markdown",
   "id": "c65e023e",
   "metadata": {},
   "source": [
    "# Disscusion about the DataSet:\n",
    "\n",
    "## Link for the Google Docs: \n",
    "https://docs.google.com/document/d/121ixdkaVSXehJLEjOdvhjXv3FW3Icmq68oI5NHd_vMI/edit#heading=h.x3u69rmhszqp\n",
    "\n",
    "***\n",
    "\n",
    "### 3 Datasets:\n",
    "\n",
    "|<h1>Dataset</h1>|<h1>Pros</h1>|<h1>Cons</h1>|\n",
    "| :----------- | :----------- | :----------- |\n",
    "| <h2>[Pokémon for Data Mining and Machine Learning](https://www.kaggle.com/datasets/alopez247/pokemon)</h2>| <h3><ul><li>Lots of attributes for classification and prediction</li> <li>2nd</li> <li>3rd</li></ul></h3>  | <h3><ul><li>1st </li> <li>2nd</li> <li>3rd</li></ul></h3>  |\n",
    "| <h2>[Movies/Tv Shows DataSet](https://www.kaggle.com/datasets/shivamb/netflix-shows)</h2> | <h3><ul><li>1st </li> <li>2nd</li> <li>3rd</li></ul></h3>   | <h3><ul><li>1st </li> <li>2nd</li> <li>3rd</li></ul></h3> \n",
    "| <h2>[Fruits 360](https://www.kaggle.com/datasets/moltean/fruits)</h2> | <h3><ul><li>1st </li> <li>2nd</li> <li>3rd</li></ul></h3>   | <h3><ul><li>1st </li> <li>2nd</li> <li>3rd</li></ul></h3>   |\n",
    "\n",
    "\n",
    "\n",
    "\n"
   ]
  },
  {
   "cell_type": "markdown",
   "id": "a3068ccc",
   "metadata": {},
   "source": [
    "***"
   ]
  },
  {
   "cell_type": "code",
   "execution_count": null,
   "id": "51c1b6d2",
   "metadata": {},
   "outputs": [],
   "source": []
  }
 ],
 "metadata": {
  "kernelspec": {
   "display_name": "Python 3 (ipykernel)",
   "language": "python",
   "name": "python3"
  },
  "language_info": {
   "codemirror_mode": {
    "name": "ipython",
    "version": 3
   },
   "file_extension": ".py",
   "mimetype": "text/x-python",
   "name": "python",
   "nbconvert_exporter": "python",
   "pygments_lexer": "ipython3",
   "version": "3.9.7"
  }
 },
 "nbformat": 4,
 "nbformat_minor": 5
}
